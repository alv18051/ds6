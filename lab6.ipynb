{
 "cells": [
  {
   "cell_type": "code",
   "execution_count": 10,
   "metadata": {},
   "outputs": [
    {
     "name": "stdout",
     "output_type": "stream",
     "text": [
      "Las claves se han cargado correctamente desde el archivo .env.\n",
      "Autenticación exitosa en Twitter.\n",
      "Fallo en la conexión. Razón: 401 Unauthorized\n",
      "89 - Invalid or expired token.\n"
     ]
    }
   ],
   "source": [
    "import tweepy\n",
    "from dotenv import load_dotenv\n",
    "import os\n",
    "\n",
    "# Intenta cargar las variables de entorno desde el archivo .env\n",
    "if not load_dotenv():\n",
    "    print(\"Error al cargar el archivo .env.\")\n",
    "    exit()\n",
    "\n",
    "# Obtén las credenciales usando os.environ.get\n",
    "API_KEY = os.environ.get('API_KEY')\n",
    "API_SECRET = os.environ.get('API_SECRET')\n",
    "ACCESS_TOKEN = os.environ.get('ACCESS_TOKEN')\n",
    "ACCESS_TOKEN_SECRET = os.environ.get('ACCESS_TOKEN_SECRET')\n",
    "\n",
    "# Verificar que las claves no son None\n",
    "if not all([API_KEY, API_SECRET, ACCESS_TOKEN, ACCESS_TOKEN_SECRET]):\n",
    "    print(\"Alguna de las claves o tokens no se cargó correctamente. Verifica tu archivo .env.\")\n",
    "    exit()\n",
    "\n",
    "print(\"Las claves se han cargado correctamente desde el archivo .env.\")\n",
    "\n",
    "# Intenta autenticarse en Twitter\n",
    "try:\n",
    "    auth = tweepy.OAuthHandler(API_KEY, API_SECRET)\n",
    "    auth.set_access_token(ACCESS_TOKEN, ACCESS_TOKEN_SECRET)\n",
    "    api = tweepy.API(auth)\n",
    "    print(\"Autenticación exitosa en Twitter.\")\n",
    "except Exception as e:\n",
    "    print(\"Error durante la autenticación en Twitter:\", e)\n",
    "    exit()\n",
    "\n",
    "# Función para verificar la conexión\n",
    "def test_connection():\n",
    "    try:\n",
    "        api.verify_credentials()  # Esto intentará verificar tus credenciales\n",
    "        print(\"Conexión exitosa!\")\n",
    "    except Exception as e:  # Captura cualquier excepción de Tweepy\n",
    "        print(\"Fallo en la conexión. Razón:\", str(e))\n",
    "\n",
    "# Prueba la conexión\n",
    "test_connection()\n",
    "\n",
    "\n",
    "\n"
   ]
  },
  {
   "cell_type": "code",
   "execution_count": null,
   "metadata": {},
   "outputs": [],
   "source": [
    "search_terms = ['#TraficoGT', '#TransitoGT', '@amilcarmontejo']\n",
    "tweets_list = []\n",
    "\n",
    "for term in search_terms:\n",
    "    tweets = tweepy.Cursor(api.search, q=term, lang=\"es\", tweet_mode='extended', count=100).items()\n",
    "    tweets_list.extend([tweet.full_text for tweet in tweets])\n",
    "\n",
    "print(tweets_list)"
   ]
  }
 ],
 "metadata": {
  "kernelspec": {
   "display_name": "Python 3",
   "language": "python",
   "name": "python3"
  },
  "language_info": {
   "codemirror_mode": {
    "name": "ipython",
    "version": 3
   },
   "file_extension": ".py",
   "mimetype": "text/x-python",
   "name": "python",
   "nbconvert_exporter": "python",
   "pygments_lexer": "ipython3",
   "version": "3.11.1"
  },
  "orig_nbformat": 4
 },
 "nbformat": 4,
 "nbformat_minor": 2
}
